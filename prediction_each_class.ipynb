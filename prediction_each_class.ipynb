{
  "nbformat": 4,
  "nbformat_minor": 0,
  "metadata": {
    "colab": {
      "provenance": []
    },
    "kernelspec": {
      "name": "python3",
      "display_name": "Python 3"
    },
    "language_info": {
      "name": "python"
    }
  },
  "cells": [
    {
      "cell_type": "code",
      "source": [
        "import pandas as pd\n",
        "from sklearn.linear_model import LogisticRegression\n",
        "from sklearn.metrics import accuracy_score, precision_score, recall_score, f1_score\n",
        "from sklearn.model_selection import train_test_split\n",
        "import numpy as np\n",
        "\n",
        "# Load the dataset\n",
        "df = pd.read_csv('/content/df_csv_ed.csv')\n",
        "df['emb'] = df['emb'].apply(ast.literal_eval)\n",
        "\n",
        "# Separate features (embeddings) and labels\n",
        "X = df['emb'].tolist()\n",
        "y = df['modified']\n",
        "\n",
        "# Convert the sequence of embeddings to a single vector\n",
        "X_transformed = []\n",
        "for emb_vec in X:\n",
        "    vec_sum = np.mean(emb_vec[:5], axis=0)\n",
        "    X_transformed.append(vec_sum)\n",
        "\n",
        "# Reshape the feature array\n",
        "X_transformed = np.array(X_transformed).reshape(-1, 1)\n",
        "\n",
        "# Split the dataset into training and testing sets\n",
        "X_train, X_test, y_train, y_test = train_test_split(X_transformed, y, test_size=0.2, random_state=42)\n",
        "\n",
        "# Train the logistic regression model\n",
        "model = LogisticRegression()\n",
        "model.fit(X_train, y_train)\n",
        "\n",
        "# Make predictions on the testing set\n",
        "y_pred = model.predict(X_test)\n",
        "\n",
        "# Calculate evaluation metrics\n",
        "accuracy = accuracy_score(y_test, y_pred)\n",
        "precision = precision_score(y_test, y_pred)\n",
        "recall = recall_score(y_test, y_pred)\n",
        "f1 = f1_score(y_test, y_pred)\n",
        "\n",
        "print(f'Singleton Accuracy: {accuracy:.2f}')\n",
        "print(f'Precision: {precision:.2f}')\n",
        "print(f'Recall: {recall:.2f}')\n",
        "print(f'F1-score: {f1:.2f}')\n"
      ],
      "metadata": {
        "colab": {
          "base_uri": "https://localhost:8080/"
        },
        "id": "9BZchnvtVjoT",
        "outputId": "ccf9d696-7f5f-406d-fcf3-e59fae98322f"
      },
      "execution_count": 33,
      "outputs": [
        {
          "output_type": "stream",
          "name": "stdout",
          "text": [
            "Singleton Accuracy: 0.62\n",
            "Precision: 0.00\n",
            "Recall: 0.00\n",
            "F1-score: 0.00\n"
          ]
        },
        {
          "output_type": "stream",
          "name": "stderr",
          "text": [
            "/usr/local/lib/python3.10/dist-packages/sklearn/metrics/_classification.py:1344: UndefinedMetricWarning: Precision is ill-defined and being set to 0.0 due to no predicted samples. Use `zero_division` parameter to control this behavior.\n",
            "  _warn_prf(average, modifier, msg_start, len(result))\n"
          ]
        }
      ]
    },
    {
      "cell_type": "code",
      "source": [
        "import pandas as pd\n",
        "from sklearn.linear_model import LogisticRegression\n",
        "from sklearn.metrics import accuracy_score, precision_score, recall_score, f1_score\n",
        "from sklearn.model_selection import train_test_split\n",
        "import numpy as np\n",
        "\n",
        "# Load the dataset\n",
        "df = pd.read_csv('/content/singleton.csv')\n",
        "df['emb'] = df['emb'].apply(ast.literal_eval)\n",
        "# Shuffle the dataframe\n",
        "df = df.sample(frac=1, random_state=42)\n",
        "\n",
        "# Separate features (embeddings) and labels\n",
        "X = df['emb'].tolist()\n",
        "y = df['modified']\n",
        "\n",
        "# Convert the sequence of embeddings to a single vector\n",
        "X_transformed = []\n",
        "for emb_vec in X:\n",
        "    vec_sum = np.mean(emb_vec[:5], axis=0)\n",
        "    X_transformed.append(vec_sum)\n",
        "\n",
        "# Reshape the feature array\n",
        "X_transformed = np.array(X_transformed).reshape(-1, 1)\n",
        "\n",
        "# Split the dataset into training and testing sets\n",
        "X_train, X_test, y_train, y_test = train_test_split(X_transformed, y, test_size=0.2, random_state=42)\n",
        "\n",
        "# Train the logistic regression model\n",
        "model = LogisticRegression()\n",
        "model.fit(X_train, y_train)\n",
        "\n",
        "# Make predictions on the testing set\n",
        "y_pred = model.predict(X_test)\n",
        "\n",
        "# Calculate evaluation metrics\n",
        "accuracy = accuracy_score(y_test, y_pred)\n",
        "precision = precision_score(y_test, y_pred)\n",
        "recall = recall_score(y_test, y_pred)\n",
        "f1 = f1_score(y_test, y_pred)\n",
        "\n",
        "print(f'Singleton Accuracy: {accuracy:.2f}')\n",
        "print(f'Precision: {precision:.2f}')\n",
        "print(f'Recall: {recall:.2f}')\n",
        "print(f'F1-score: {f1:.2f}')\n"
      ],
      "metadata": {
        "colab": {
          "base_uri": "https://localhost:8080/"
        },
        "id": "6nqJ3bRIWMZn",
        "outputId": "00461ef2-f003-4f20-c0d3-e21baf6f61b4"
      },
      "execution_count": 42,
      "outputs": [
        {
          "output_type": "stream",
          "name": "stdout",
          "text": [
            "Singleton Accuracy: 0.50\n",
            "Precision: 0.00\n",
            "Recall: 0.00\n",
            "F1-score: 0.00\n"
          ]
        },
        {
          "output_type": "stream",
          "name": "stderr",
          "text": [
            "/usr/local/lib/python3.10/dist-packages/sklearn/metrics/_classification.py:1344: UndefinedMetricWarning: Precision is ill-defined and being set to 0.0 due to no predicted samples. Use `zero_division` parameter to control this behavior.\n",
            "  _warn_prf(average, modifier, msg_start, len(result))\n"
          ]
        }
      ]
    },
    {
      "cell_type": "code",
      "source": [
        "import pandas as pd\n",
        "from sklearn.linear_model import LogisticRegression\n",
        "from sklearn.metrics import accuracy_score, precision_score, recall_score, f1_score\n",
        "from sklearn.model_selection import train_test_split\n",
        "import numpy as np\n",
        "\n",
        "# Load the dataset\n",
        "df = pd.read_csv('/content/prototype.csv')\n",
        "df['emb'] = df['emb'].apply(ast.literal_eval)\n",
        "# Shuffle the dataframe\n",
        "df = df.sample(frac=1, random_state=42)\n",
        "\n",
        "# Separate features (embeddings) and labels\n",
        "X = df['emb'].tolist()\n",
        "y = df['modified']\n",
        "\n",
        "# Convert the sequence of embeddings to a single vector\n",
        "X_transformed = []\n",
        "for emb_vec in X:\n",
        "    vec_sum = np.mean(emb_vec[:5], axis=0)\n",
        "    X_transformed.append(vec_sum)\n",
        "\n",
        "# Reshape the feature array\n",
        "X_transformed = np.array(X_transformed).reshape(-1, 1)\n",
        "\n",
        "# Split the dataset into training and testing sets\n",
        "X_train, X_test, y_train, y_test = train_test_split(X_transformed, y, test_size=0.2, random_state=42)\n",
        "\n",
        "# Train the logistic regression model\n",
        "model = LogisticRegression()\n",
        "model.fit(X_train, y_train)\n",
        "\n",
        "# Make predictions on the testing set\n",
        "y_pred = model.predict(X_test)\n",
        "\n",
        "# Calculate evaluation metrics\n",
        "accuracy = accuracy_score(y_test, y_pred)\n",
        "precision = precision_score(y_test, y_pred)\n",
        "recall = recall_score(y_test, y_pred)\n",
        "f1 = f1_score(y_test, y_pred)\n",
        "\n",
        "print(f'Prototype Accuracy: {accuracy:.2f}')\n",
        "print(f'Precision: {precision:.2f}')\n",
        "print(f'Recall: {recall:.2f}')\n",
        "print(f'F1-score: {f1:.2f}')\n"
      ],
      "metadata": {
        "colab": {
          "base_uri": "https://localhost:8080/"
        },
        "id": "sJLsiYS7WZvd",
        "outputId": "117dd235-9957-45e7-b2e7-0552060a2690"
      },
      "execution_count": 44,
      "outputs": [
        {
          "output_type": "stream",
          "name": "stdout",
          "text": [
            "Prototype Accuracy: 0.90\n",
            "Precision: 0.90\n",
            "Recall: 1.00\n",
            "F1-score: 0.95\n"
          ]
        }
      ]
    },
    {
      "cell_type": "code",
      "source": [
        "import pandas as pd\n",
        "from sklearn.linear_model import LogisticRegression\n",
        "from sklearn.metrics import accuracy_score, precision_score, recall_score, f1_score\n",
        "from sklearn.model_selection import train_test_split\n",
        "import numpy as np\n",
        "\n",
        "# Load the dataset\n",
        "df = pd.read_csv('/content/nonsingleton.csv')\n",
        "df['emb'] = df['emb'].apply(ast.literal_eval)\n",
        "# Shuffle the dataframe\n",
        "df = df.sample(frac=1, random_state=42)\n",
        "\n",
        "# Separate features (embeddings) and labels\n",
        "X = df['emb'].tolist()\n",
        "y = df['modified']\n",
        "\n",
        "# Convert the sequence of embeddings to a single vector\n",
        "X_transformed = []\n",
        "for emb_vec in X:\n",
        "    vec_sum = np.mean(emb_vec[:5], axis=0)\n",
        "    X_transformed.append(vec_sum)\n",
        "\n",
        "# Reshape the feature array\n",
        "X_transformed = np.array(X_transformed).reshape(-1, 1)\n",
        "\n",
        "# Split the dataset into training and testing sets\n",
        "X_train, X_test, y_train, y_test = train_test_split(X_transformed, y, test_size=0.2, random_state=42)\n",
        "\n",
        "# Train the logistic regression model\n",
        "model = LogisticRegression()\n",
        "model.fit(X_train, y_train)\n",
        "\n",
        "# Make predictions on the testing set\n",
        "y_pred = model.predict(X_test)\n",
        "\n",
        "# Calculate evaluation metrics\n",
        "accuracy = accuracy_score(y_test, y_pred)\n",
        "precision = precision_score(y_test, y_pred)\n",
        "recall = recall_score(y_test, y_pred)\n",
        "f1 = f1_score(y_test, y_pred)\n",
        "\n",
        "print(f'nonsingleton Accuracy: {accuracy:.2f}')\n",
        "print(f'Precision: {precision:.2f}')\n",
        "print(f'Recall: {recall:.2f}')\n",
        "print(f'F1-score: {f1:.2f}')\n"
      ],
      "metadata": {
        "colab": {
          "base_uri": "https://localhost:8080/"
        },
        "id": "moZ17al7Xiu3",
        "outputId": "e74a03e9-737e-42d3-d864-3c5216d4c180"
      },
      "execution_count": 49,
      "outputs": [
        {
          "output_type": "stream",
          "name": "stdout",
          "text": [
            "nonsingleton Accuracy: 0.60\n",
            "Precision: 0.00\n",
            "Recall: 0.00\n",
            "F1-score: 0.00\n"
          ]
        },
        {
          "output_type": "stream",
          "name": "stderr",
          "text": [
            "/usr/local/lib/python3.10/dist-packages/sklearn/metrics/_classification.py:1344: UndefinedMetricWarning: Precision is ill-defined and being set to 0.0 due to no predicted samples. Use `zero_division` parameter to control this behavior.\n",
            "  _warn_prf(average, modifier, msg_start, len(result))\n"
          ]
        }
      ]
    },
    {
      "cell_type": "code",
      "source": [
        "import pandas as pd\n",
        "from sklearn.linear_model import LogisticRegression\n",
        "from sklearn.metrics import accuracy_score, precision_score, recall_score, f1_score\n",
        "from sklearn.model_selection import train_test_split\n",
        "import numpy as np\n",
        "\n",
        "# Load the dataset\n",
        "df = pd.read_csv('/content/nonprototype.csv')\n",
        "df['emb'] = df['emb'].apply(ast.literal_eval)\n",
        "# Shuffle the dataframe\n",
        "df = df.sample(frac=1, random_state=42)\n",
        "\n",
        "# Separate features (embeddings) and labels\n",
        "X = df['emb'].tolist()\n",
        "y = df['modified']\n",
        "\n",
        "# Convert the sequence of embeddings to a single vector\n",
        "X_transformed = []\n",
        "for emb_vec in X:\n",
        "    vec_sum = np.mean(emb_vec[:5], axis=0)\n",
        "    X_transformed.append(vec_sum)\n",
        "\n",
        "# Reshape the feature array\n",
        "X_transformed = np.array(X_transformed).reshape(-1, 1)\n",
        "\n",
        "# Split the dataset into training and testing sets\n",
        "X_train, X_test, y_train, y_test = train_test_split(X_transformed, y, test_size=0.2, random_state=42)\n",
        "\n",
        "# Train the logistic regression model\n",
        "model = LogisticRegression()\n",
        "model.fit(X_train, y_train)\n",
        "\n",
        "# Make predictions on the testing set\n",
        "y_pred = model.predict(X_test)\n",
        "\n",
        "# Calculate evaluation metrics\n",
        "accuracy = accuracy_score(y_test, y_pred)\n",
        "precision = precision_score(y_test, y_pred)\n",
        "recall = recall_score(y_test, y_pred)\n",
        "f1 = f1_score(y_test, y_pred)\n",
        "\n",
        "print(f'NONPrototype Accuracy: {accuracy:.2f}')\n",
        "print(f'Precision: {precision:.2f}')\n",
        "print(f'Recall: {recall:.2f}')\n",
        "print(f'F1-score: {f1:.2f}')\n"
      ],
      "metadata": {
        "colab": {
          "base_uri": "https://localhost:8080/"
        },
        "id": "i5U7ORHXX7fu",
        "outputId": "1188510f-3936-4d6d-c5e8-289fc74b947c"
      },
      "execution_count": 50,
      "outputs": [
        {
          "output_type": "stream",
          "name": "stdout",
          "text": [
            "NONPrototype Accuracy: 0.90\n",
            "Precision: 0.90\n",
            "Recall: 1.00\n",
            "F1-score: 0.95\n"
          ]
        }
      ]
    },
    {
      "cell_type": "code",
      "source": [],
      "metadata": {
        "id": "oZDw74eBYbyE"
      },
      "execution_count": null,
      "outputs": []
    }
  ]
}